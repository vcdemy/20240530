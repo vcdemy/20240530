{
 "cells": [
  {
   "cell_type": "markdown",
   "id": "9fd3389b-fc94-4966-9b2c-50a439bf4afb",
   "metadata": {},
   "source": [
    "# 20240530 筆記"
   ]
  },
  {
   "cell_type": "markdown",
   "id": "bd551a30-c6d4-4ac2-8646-478b0af49cce",
   "metadata": {},
   "source": [
    "## 作業\n",
    "\n",
    "請使用 YOLO 根據 kaggle 上面的 traffic sign detection 資料集，建立一個自己的 model。\n",
    "\n",
    "https://www.kaggle.com/datasets/pkdarabi/cardetection"
   ]
  },
  {
   "cell_type": "markdown",
   "id": "ce904a1e-1ed3-40f8-8178-af413cd54dde",
   "metadata": {},
   "source": [
    "## 從 image 裡面取得 foreground object"
   ]
  },
  {
   "cell_type": "code",
   "execution_count": null,
   "id": "8f61db13-2341-496b-b426-d2fb3b343ad5",
   "metadata": {},
   "outputs": [],
   "source": [
    "import cv2\n",
    "import numpy as np\n",
    "\n",
    "# 加載圖像\n",
    "image = cv2.imread('image.jpg')\n",
    "mask = np.zeros(image.shape[:2], np.uint8)\n",
    "\n",
    "# 定義模型\n",
    "bgdModel = np.zeros((1, 65), np.float64)\n",
    "fgdModel = np.zeros((1, 65), np.float64)\n",
    "\n",
    "# 繪製矩形，包含前景對象\n",
    "rect = (50, 50, 450, 290)\n",
    "\n",
    "# 應用GrabCut算法\n",
    "cv2.grabCut(image, mask, rect, bgdModel, fgdModel, 5, cv2.GC_INIT_WITH_RECT)\n",
    "\n",
    "# 生成前景掩碼\n",
    "mask2 = np.where((mask == 2) | (mask == 0), 0, 1).astype('uint8')\n",
    "foreground = image * mask2[:, :, np.newaxis]\n",
    "\n",
    "# 顯示結果\n",
    "cv2.imshow('Foreground Object', foreground)\n",
    "cv2.waitKey(0)\n",
    "cv2.destroyAllWindows()"
   ]
  }
 ],
 "metadata": {
  "kernelspec": {
   "display_name": "Python 3 (ipykernel)",
   "language": "python",
   "name": "python3"
  },
  "language_info": {
   "codemirror_mode": {
    "name": "ipython",
    "version": 3
   },
   "file_extension": ".py",
   "mimetype": "text/x-python",
   "name": "python",
   "nbconvert_exporter": "python",
   "pygments_lexer": "ipython3",
   "version": "3.10.14"
  }
 },
 "nbformat": 4,
 "nbformat_minor": 5
}
