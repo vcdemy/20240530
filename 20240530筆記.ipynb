{
 "cells": [
  {
   "cell_type": "markdown",
   "id": "9fd3389b-fc94-4966-9b2c-50a439bf4afb",
   "metadata": {},
   "source": [
    "# 20240530 筆記"
   ]
  },
  {
   "cell_type": "markdown",
   "id": "bd551a30-c6d4-4ac2-8646-478b0af49cce",
   "metadata": {},
   "source": [
    "## 作業\n",
    "\n",
    "請使用 YOLO 根據 kaggle 上面的 traffic sign detection 資料集，建立一個自己的 model。\n",
    "\n",
    "https://www.kaggle.com/datasets/pkdarabi/cardetection"
   ]
  },
  {
   "cell_type": "markdown",
   "id": "ce904a1e-1ed3-40f8-8178-af413cd54dde",
   "metadata": {},
   "source": [
    "## 從 image 裡面取得 foreground object"
   ]
  },
  {
   "cell_type": "code",
   "execution_count": 8,
   "id": "e10fe6e8-2113-4946-95a0-c4bcc6009532",
   "metadata": {},
   "outputs": [],
   "source": [
    "import cv2\n",
    "import numpy as np\n",
    "import plotly.express as px"
   ]
  },
  {
   "cell_type": "code",
   "execution_count": 2,
   "id": "14564bd9-d550-4d87-b591-af0b4f051594",
   "metadata": {},
   "outputs": [],
   "source": [
    "import plotly.io as pio\n",
    "pio.renderers.default = 'iframe'"
   ]
  },
  {
   "cell_type": "code",
   "execution_count": 5,
   "id": "7b71d4b8-cac6-43b4-b1f3-e67be496f379",
   "metadata": {},
   "outputs": [],
   "source": [
    "image = cv2.imread('metal100.jpg')"
   ]
  },
  {
   "cell_type": "code",
   "execution_count": 7,
   "id": "4b8b935f-06ea-4e18-a1b8-387a10767a9f",
   "metadata": {},
   "outputs": [
    {
     "data": {
      "text/html": [
       "<iframe\n",
       "    scrolling=\"no\"\n",
       "    width=\"100%\"\n",
       "    height=\"545px\"\n",
       "    src=\"iframe_figures/figure_7.html\"\n",
       "    frameborder=\"0\"\n",
       "    allowfullscreen\n",
       "></iframe>\n"
      ]
     },
     "metadata": {},
     "output_type": "display_data"
    }
   ],
   "source": [
    "px.imshow(image[:,:,::-1])"
   ]
  },
  {
   "cell_type": "code",
   "execution_count": 9,
   "id": "8f61db13-2341-496b-b426-d2fb3b343ad5",
   "metadata": {},
   "outputs": [],
   "source": [
    "# 建立 mask\n",
    "mask = np.zeros(image.shape[:2], np.uint8)\n",
    "\n",
    "# 定義模型\n",
    "bgdModel = np.zeros((1, 65), np.float64)\n",
    "fgdModel = np.zeros((1, 65), np.float64)\n",
    "\n",
    "# 繪製矩形，包含前景對象\n",
    "rect = (60, 10, 440, 350)\n",
    "\n",
    "# 應用GrabCut算法\n",
    "cv2.grabCut(image, mask, rect, bgdModel, fgdModel, 5, cv2.GC_INIT_WITH_RECT)\n",
    "\n",
    "# 生成前景掩碼\n",
    "mask2 = np.where((mask == 2) | (mask == 0), 0, 1).astype('uint8')\n",
    "foreground = image * mask2[:, :, np.newaxis]"
   ]
  },
  {
   "cell_type": "code",
   "execution_count": 10,
   "id": "17a71db9-cf1c-42b0-acda-c6f92354bdda",
   "metadata": {},
   "outputs": [
    {
     "data": {
      "text/html": [
       "<iframe\n",
       "    scrolling=\"no\"\n",
       "    width=\"100%\"\n",
       "    height=\"545px\"\n",
       "    src=\"iframe_figures/figure_10.html\"\n",
       "    frameborder=\"0\"\n",
       "    allowfullscreen\n",
       "></iframe>\n"
      ]
     },
     "metadata": {},
     "output_type": "display_data"
    }
   ],
   "source": [
    "px.imshow(foreground[:,:,::-1])"
   ]
  },
  {
   "cell_type": "code",
   "execution_count": 11,
   "id": "186bccef-8d17-4e26-bbd0-b45a6526f4a7",
   "metadata": {},
   "outputs": [],
   "source": [
    "import gradio as gr"
   ]
  },
  {
   "cell_type": "code",
   "execution_count": null,
   "id": "7b01868e-568b-4905-8dcf-37c5fb02aed6",
   "metadata": {},
   "outputs": [],
   "source": [
    "def process(image, xmin, ymin, xmax, ymax):\n",
    "    # 建立 mask\n",
    "    mask = np.zeros(image.shape[:2], np.uint8)\n",
    "    \n",
    "    # 定義模型\n",
    "    bgdModel = np.zeros((1, 65), np.float64)\n",
    "    fgdModel = np.zeros((1, 65), np.float64)\n",
    "    \n",
    "    # 繪製矩形，包含前景對象\n",
    "    rect = (xmin, ymin, xmax, ymax)\n",
    "    \n",
    "    # 應用GrabCut算法\n",
    "    cv2.grabCut(image, mask, rect, bgdModel, fgdModel, 5, cv2.GC_INIT_WITH_RECT)\n",
    "    \n",
    "    # 生成前景掩碼\n",
    "    mask2 = np.where((mask == 2) | (mask == 0), 0, 1).astype('uint8')\n",
    "    foreground = image * mask2[:, :, np.newaxis]\n",
    "    return foreground"
   ]
  }
 ],
 "metadata": {
  "kernelspec": {
   "display_name": "Python 3 (ipykernel)",
   "language": "python",
   "name": "python3"
  },
  "language_info": {
   "codemirror_mode": {
    "name": "ipython",
    "version": 3
   },
   "file_extension": ".py",
   "mimetype": "text/x-python",
   "name": "python",
   "nbconvert_exporter": "python",
   "pygments_lexer": "ipython3",
   "version": "3.10.14"
  }
 },
 "nbformat": 4,
 "nbformat_minor": 5
}
