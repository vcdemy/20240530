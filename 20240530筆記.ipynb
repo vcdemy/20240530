{
 "cells": [
  {
   "cell_type": "markdown",
   "id": "9fd3389b-fc94-4966-9b2c-50a439bf4afb",
   "metadata": {},
   "source": [
    "# 20240530 筆記"
   ]
  },
  {
   "cell_type": "markdown",
   "id": "bd551a30-c6d4-4ac2-8646-478b0af49cce",
   "metadata": {},
   "source": [
    "## 作業\n",
    "\n",
    "請使用 YOLO 根據 kaggle 上面的 traffic sign detection 資料集，建立一個自己的 model。\n",
    "\n",
    "https://www.kaggle.com/datasets/pkdarabi/cardetection"
   ]
  },
  {
   "cell_type": "markdown",
   "id": "ce904a1e-1ed3-40f8-8178-af413cd54dde",
   "metadata": {},
   "source": [
    "## 從 image 裡面取得 foreground object"
   ]
  },
  {
   "cell_type": "code",
   "execution_count": 8,
   "id": "e10fe6e8-2113-4946-95a0-c4bcc6009532",
   "metadata": {},
   "outputs": [],
   "source": [
    "import cv2\n",
    "import numpy as np\n",
    "import plotly.express as px"
   ]
  },
  {
   "cell_type": "code",
   "execution_count": 2,
   "id": "14564bd9-d550-4d87-b591-af0b4f051594",
   "metadata": {},
   "outputs": [],
   "source": [
    "import plotly.io as pio\n",
    "pio.renderers.default = 'iframe'"
   ]
  },
  {
   "cell_type": "code",
   "execution_count": 5,
   "id": "7b71d4b8-cac6-43b4-b1f3-e67be496f379",
   "metadata": {},
   "outputs": [],
   "source": [
    "image = cv2.imread('metal100.jpg')"
   ]
  },
  {
   "cell_type": "code",
   "execution_count": 7,
   "id": "4b8b935f-06ea-4e18-a1b8-387a10767a9f",
   "metadata": {},
   "outputs": [
    {
     "data": {
      "text/html": [
       "<iframe\n",
       "    scrolling=\"no\"\n",
       "    width=\"100%\"\n",
       "    height=\"545px\"\n",
       "    src=\"iframe_figures/figure_7.html\"\n",
       "    frameborder=\"0\"\n",
       "    allowfullscreen\n",
       "></iframe>\n"
      ]
     },
     "metadata": {},
     "output_type": "display_data"
    }
   ],
   "source": [
    "px.imshow(image[:,:,::-1])"
   ]
  },
  {
   "cell_type": "code",
   "execution_count": 9,
   "id": "8f61db13-2341-496b-b426-d2fb3b343ad5",
   "metadata": {},
   "outputs": [],
   "source": [
    "# 建立 mask\n",
    "mask = np.zeros(image.shape[:2], np.uint8)\n",
    "\n",
    "# 定義模型\n",
    "bgdModel = np.zeros((1, 65), np.float64)\n",
    "fgdModel = np.zeros((1, 65), np.float64)\n",
    "\n",
    "# 繪製矩形，包含前景對象\n",
    "rect = (60, 10, 440, 350)\n",
    "\n",
    "# 應用GrabCut算法\n",
    "cv2.grabCut(image, mask, rect, bgdModel, fgdModel, 5, cv2.GC_INIT_WITH_RECT)\n",
    "\n",
    "# 生成前景掩碼\n",
    "mask2 = np.where((mask == 2) | (mask == 0), 0, 1).astype('uint8')\n",
    "foreground = image * mask2[:, :, np.newaxis]"
   ]
  },
  {
   "cell_type": "code",
   "execution_count": 10,
   "id": "17a71db9-cf1c-42b0-acda-c6f92354bdda",
   "metadata": {},
   "outputs": [
    {
     "data": {
      "text/html": [
       "<iframe\n",
       "    scrolling=\"no\"\n",
       "    width=\"100%\"\n",
       "    height=\"545px\"\n",
       "    src=\"iframe_figures/figure_10.html\"\n",
       "    frameborder=\"0\"\n",
       "    allowfullscreen\n",
       "></iframe>\n"
      ]
     },
     "metadata": {},
     "output_type": "display_data"
    }
   ],
   "source": [
    "px.imshow(foreground[:,:,::-1])"
   ]
  },
  {
   "cell_type": "code",
   "execution_count": 11,
   "id": "186bccef-8d17-4e26-bbd0-b45a6526f4a7",
   "metadata": {},
   "outputs": [],
   "source": [
    "import gradio as gr"
   ]
  },
  {
   "cell_type": "code",
   "execution_count": 12,
   "id": "7b01868e-568b-4905-8dcf-37c5fb02aed6",
   "metadata": {},
   "outputs": [],
   "source": [
    "def process(image, xmin, ymin, xmax, ymax):\n",
    "    # 建立 mask\n",
    "    mask = np.zeros(image.shape[:2], np.uint8)\n",
    "    \n",
    "    # 定義模型\n",
    "    bgdModel = np.zeros((1, 65), np.float64)\n",
    "    fgdModel = np.zeros((1, 65), np.float64)\n",
    "    \n",
    "    # 繪製矩形，包含前景對象\n",
    "    rect = (xmin, ymin, xmax, ymax)\n",
    "    \n",
    "    # 應用GrabCut算法\n",
    "    cv2.grabCut(image, mask, rect, bgdModel, fgdModel, 5, cv2.GC_INIT_WITH_RECT)\n",
    "    \n",
    "    # 生成前景掩碼\n",
    "    mask2 = np.where((mask == 2) | (mask == 0), 0, 1).astype('uint8')\n",
    "    foreground = image * mask2[:, :, np.newaxis]\n",
    "    return foreground"
   ]
  },
  {
   "cell_type": "code",
   "execution_count": 13,
   "id": "418f4ba9-f00d-4c55-a852-085f83dc3f35",
   "metadata": {},
   "outputs": [
    {
     "name": "stdout",
     "output_type": "stream",
     "text": [
      "Running on local URL:  http://127.0.0.1:7864\n",
      "\n",
      "To create a public link, set `share=True` in `launch()`.\n"
     ]
    },
    {
     "data": {
      "text/html": [
       "<div><iframe src=\"http://127.0.0.1:7864/\" width=\"100%\" height=\"500\" allow=\"autoplay; camera; microphone; clipboard-read; clipboard-write;\" frameborder=\"0\" allowfullscreen></iframe></div>"
      ],
      "text/plain": [
       "<IPython.core.display.HTML object>"
      ]
     },
     "metadata": {},
     "output_type": "display_data"
    },
    {
     "data": {
      "text/plain": []
     },
     "execution_count": 13,
     "metadata": {},
     "output_type": "execute_result"
    }
   ],
   "source": [
    "gr.Interface(process,\n",
    "             [\"image\", \"number\", \"number\", \"number\", \"number\"],\n",
    "             \"image\").launch()"
   ]
  },
  {
   "cell_type": "markdown",
   "id": "424e37f1-813f-4eb9-81e1-9448645b5ef9",
   "metadata": {},
   "source": [
    "## 使用 YOLOv8 的 Instance Segmentation"
   ]
  },
  {
   "cell_type": "code",
   "execution_count": 14,
   "id": "77df8e29-6d16-4c29-971f-015cf000cecf",
   "metadata": {},
   "outputs": [],
   "source": [
    "from ultralytics import YOLO"
   ]
  },
  {
   "cell_type": "code",
   "execution_count": 15,
   "id": "e77a95b6-a78f-41a2-b2ab-9442a9ccbb7c",
   "metadata": {},
   "outputs": [
    {
     "name": "stdout",
     "output_type": "stream",
     "text": [
      "Downloading https://github.com/ultralytics/assets/releases/download/v8.2.0/yolov8n-seg.pt to 'yolov8n-seg.pt'...\n"
     ]
    },
    {
     "name": "stderr",
     "output_type": "stream",
     "text": [
      "100%|█████████████████████████████████| 6.73M/6.73M [00:01<00:00, 7.01MB/s]\n"
     ]
    }
   ],
   "source": [
    "model = YOLO(\"yolov8n-seg.pt\")"
   ]
  },
  {
   "cell_type": "code",
   "execution_count": 16,
   "id": "97251018-0d33-4c19-9dfa-bdea13b6a2ca",
   "metadata": {},
   "outputs": [
    {
     "name": "stdout",
     "output_type": "stream",
     "text": [
      "\n",
      "image 1/1 C:\\Users\\Victor\\vcdemy\\20240530\\therock.jpg: 480x640 1 person, 1 tie, 1 chair, 686.0ms\n",
      "Speed: 12.5ms preprocess, 686.0ms inference, 2036.8ms postprocess per image at shape (1, 3, 480, 640)\n"
     ]
    }
   ],
   "source": [
    "results = model('therock.jpg')"
   ]
  },
  {
   "cell_type": "code",
   "execution_count": 17,
   "id": "e71e9039-de3f-4d5a-9f54-c9ec66c1720e",
   "metadata": {},
   "outputs": [],
   "source": [
    "results[0].show()"
   ]
  },
  {
   "cell_type": "markdown",
   "id": "f3f021b3-ad64-447c-90ee-824ad874a715",
   "metadata": {},
   "source": [
    "## Instance Segmentation 只畫出 polygon 的形狀。"
   ]
  },
  {
   "cell_type": "code",
   "execution_count": 18,
   "id": "449f70e8-e617-4a96-b587-7c6004d7d7b0",
   "metadata": {},
   "outputs": [],
   "source": [
    "image = cv2.imread('therock.jpg')"
   ]
  },
  {
   "cell_type": "code",
   "execution_count": 19,
   "id": "662d426b-7eb1-4dda-8911-ae84ebf2f9f9",
   "metadata": {},
   "outputs": [],
   "source": [
    "image = image[:,:,::-1]"
   ]
  },
  {
   "cell_type": "code",
   "execution_count": 20,
   "id": "5a7fdb46-e15f-4aa8-be21-ebd57ae79e9a",
   "metadata": {},
   "outputs": [
    {
     "name": "stdout",
     "output_type": "stream",
     "text": [
      "\n",
      "0: 480x640 1 person, 1 tie, 359.1ms\n",
      "Speed: 10.2ms preprocess, 359.1ms inference, 26.1ms postprocess per image at shape (1, 3, 480, 640)\n"
     ]
    }
   ],
   "source": [
    "results = model(image)"
   ]
  },
  {
   "cell_type": "code",
   "execution_count": 23,
   "id": "9ec265f6-ee3b-4376-9ee2-aeeb5cb1bfcc",
   "metadata": {},
   "outputs": [
    {
     "data": {
      "text/plain": [
       "dtype('uint8')"
      ]
     },
     "execution_count": 23,
     "metadata": {},
     "output_type": "execute_result"
    }
   ],
   "source": [
    "image.dtype"
   ]
  },
  {
   "cell_type": "code",
   "execution_count": 21,
   "id": "d8370ead-0952-4d4e-a056-32da91a804f8",
   "metadata": {},
   "outputs": [
    {
     "ename": "error",
     "evalue": "OpenCV(4.9.0) :-1: error: (-5:Bad argument) in function 'polylines'\n> Overload resolution failed:\n>  - Layout of the output array img is incompatible with cv::Mat\n>  - Expected Ptr<cv::UMat> for argument 'img'\n",
     "output_type": "error",
     "traceback": [
      "\u001b[1;31m---------------------------------------------------------------------------\u001b[0m",
      "\u001b[1;31merror\u001b[0m                                     Traceback (most recent call last)",
      "Cell \u001b[1;32mIn[21], line 6\u001b[0m\n\u001b[0;32m      4\u001b[0m points \u001b[38;5;241m=\u001b[39m np\u001b[38;5;241m.\u001b[39marray(seg, dtype\u001b[38;5;241m=\u001b[39mnp\u001b[38;5;241m.\u001b[39mint32)\n\u001b[0;32m      5\u001b[0m \u001b[38;5;66;03m# 繪製多邊形\u001b[39;00m\n\u001b[1;32m----> 6\u001b[0m \u001b[43mcv2\u001b[49m\u001b[38;5;241;43m.\u001b[39;49m\u001b[43mpolylines\u001b[49m\u001b[43m(\u001b[49m\u001b[43mimage\u001b[49m\u001b[43m,\u001b[49m\u001b[43m \u001b[49m\u001b[43m[\u001b[49m\u001b[43mpoints\u001b[49m\u001b[43m]\u001b[49m\u001b[43m,\u001b[49m\u001b[43m \u001b[49m\u001b[43misClosed\u001b[49m\u001b[38;5;241;43m=\u001b[39;49m\u001b[38;5;28;43;01mTrue\u001b[39;49;00m\u001b[43m,\u001b[49m\u001b[43m \u001b[49m\u001b[43mcolor\u001b[49m\u001b[38;5;241;43m=\u001b[39;49m\u001b[43m(\u001b[49m\u001b[38;5;241;43m0\u001b[39;49m\u001b[43m,\u001b[49m\u001b[43m \u001b[49m\u001b[38;5;241;43m255\u001b[39;49m\u001b[43m,\u001b[49m\u001b[43m \u001b[49m\u001b[38;5;241;43m0\u001b[39;49m\u001b[43m)\u001b[49m\u001b[43m,\u001b[49m\u001b[43m \u001b[49m\u001b[43mthickness\u001b[49m\u001b[38;5;241;43m=\u001b[39;49m\u001b[38;5;241;43m2\u001b[39;49m\u001b[43m)\u001b[49m\n",
      "\u001b[1;31merror\u001b[0m: OpenCV(4.9.0) :-1: error: (-5:Bad argument) in function 'polylines'\n> Overload resolution failed:\n>  - Layout of the output array img is incompatible with cv::Mat\n>  - Expected Ptr<cv::UMat> for argument 'img'\n"
     ]
    }
   ],
   "source": [
    "for result in results:\n",
    "    for seg in result.masks.xy:  # 獲取分割多邊形\n",
    "        # 轉換為整數類型座標\n",
    "        points = np.array(seg, dtype=np.int32)\n",
    "        # 繪製多邊形\n",
    "        cv2.polylines(image, [points], isClosed=True, color=(0, 255, 0), thickness=2)"
   ]
  },
  {
   "cell_type": "code",
   "execution_count": null,
   "id": "c5b86318-e502-4f70-809b-cfed48f56048",
   "metadata": {},
   "outputs": [],
   "source": []
  }
 ],
 "metadata": {
  "kernelspec": {
   "display_name": "Python 3 (ipykernel)",
   "language": "python",
   "name": "python3"
  },
  "language_info": {
   "codemirror_mode": {
    "name": "ipython",
    "version": 3
   },
   "file_extension": ".py",
   "mimetype": "text/x-python",
   "name": "python",
   "nbconvert_exporter": "python",
   "pygments_lexer": "ipython3",
   "version": "3.10.14"
  }
 },
 "nbformat": 4,
 "nbformat_minor": 5
}
